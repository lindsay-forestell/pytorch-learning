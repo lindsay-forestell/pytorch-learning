{
 "cells": [
  {
   "cell_type": "markdown",
   "metadata": {},
   "source": [
    "<div class=\"alert alert-block alert-info\" style=\"margin-top: 20px\">\n",
    " <a href=\"http://cocl.us/pytorch_link_top\"><img src = \"http://cocl.us/Pytorch_top\" width = 950, align = \"center\"></a>"
   ]
  },
  {
   "cell_type": "markdown",
   "metadata": {},
   "source": [
    "<img src = \"https://ibm.box.com/shared/static/ugcqz6ohbvff804xp84y4kqnvvk3bq1g.png\" width = 200, align = \"center\">\n",
    "\n",
    "<h1 align=center><font size = 5>Using Dropout for Classification Assignment  </font></h1> "
   ]
  },
  {
   "cell_type": "markdown",
   "metadata": {},
   "source": [
    "# Table of Contents\n",
    "in this lab, you will see how adding dropout to your model will decrease overfitting by using <code>nn.Sequential</code> and Cross Entropy Loss.\n",
    "\n",
    "<div class=\"alert alert-block alert-info\" style=\"margin-top: 20px\">\n",
    "<li><a href=\"#ref0\">Make Some Data</a></li>\n",
    "<li><a href=\"#ref1\">Create the Model and Cost Function the Pytorch way</a></li>\n",
    "<li><a href=\"#ref2\">Batch Gradient Descent</a></li>\n",
    "<br>\n",
    "<p></p>\n",
    "Estimated Time Needed: <strong>20 min</strong>\n",
    "</div>\n",
    "\n",
    "<hr>"
   ]
  },
  {
   "cell_type": "markdown",
   "metadata": {},
   "source": [
    "Import all the libraries that you need for the lab:  "
   ]
  },
  {
   "cell_type": "code",
   "execution_count": 41,
   "metadata": {},
   "outputs": [],
   "source": [
    "import torch\n",
    "import matplotlib.pyplot as plt\n",
    "import torch.nn as nn\n",
    "import torch.nn.functional as F\n",
    "import numpy as np\n",
    "from matplotlib.colors import ListedColormap"
   ]
  },
  {
   "cell_type": "markdown",
   "metadata": {},
   "source": [
    "Use this function only for plotting: "
   ]
  },
  {
   "cell_type": "code",
   "execution_count": 42,
   "metadata": {},
   "outputs": [],
   "source": [
    "def plot_decision_regions_3class(data_set,model=None):\n",
    "\n",
    "    cmap_light = ListedColormap(['#FFAAAA', '#AAFFAA','#00AAFF'])\n",
    "    cmap_bold = ListedColormap(['#FF0000', '#00FF00','#00AAFF'])\n",
    "    X=data_set.x.numpy()\n",
    "    y=data_set.y.numpy()\n",
    "    h = .02\n",
    "    x_min, x_max = X[:, 0].min()-0.1 , X[:, 0].max()+0.1 \n",
    "    y_min, y_max = X[:, 1].min()-0.1 , X[:, 1].max() +0.1 \n",
    "    xx, yy = np.meshgrid(np.arange(x_min, x_max, h),np.arange(y_min, y_max, h))\n",
    "    newdata=np.c_[xx.ravel(), yy.ravel()]\n",
    "    \n",
    "    #XX=torch.torch.Tensor(newdata)\n",
    "    #_,yhat=torch.max(model(XX),1)\n",
    "    #yhat=yhat.numpy().reshape(xx.shape)\n",
    "    \n",
    "    Z=data_set.fun(newdata).flatten()\n",
    "    f=np.zeros(Z.shape)\n",
    "    f[Z>0]=1\n",
    "    f=f.reshape(xx.shape)\n",
    "    if model!=None:\n",
    "        model.eval()\n",
    "        XX=torch.torch.Tensor(newdata)\n",
    "        _,yhat=torch.max(model(XX),1)\n",
    "        yhat=yhat.numpy().reshape(xx.shape)\n",
    "        plt.pcolormesh(xx, yy, yhat, cmap=cmap_light)\n",
    "        plt.contour(xx, yy, f, cmap=plt.cm.Paired)\n",
    "    else:\n",
    "        plt.contour(xx, yy, f, cmap=plt.cm.Paired)\n",
    "        plt.pcolormesh(xx, yy, f, cmap=cmap_light) \n",
    "\n",
    "    plt.title(\"decision region vs True decision boundary\")\n",
    "    plt.legend()\n",
    " "
   ]
  },
  {
   "cell_type": "markdown",
   "metadata": {},
   "source": [
    "Use this function to calculate accuracy: "
   ]
  },
  {
   "cell_type": "code",
   "execution_count": 43,
   "metadata": {},
   "outputs": [],
   "source": [
    "def accuracy(model,data_set):\n",
    "    _,yhat=torch.max(model(data_set.x),1)\n",
    "    return (yhat==data_set.y).numpy().mean()"
   ]
  },
  {
   "cell_type": "markdown",
   "metadata": {},
   "source": [
    "<a id=\"ref0\"></a>\n",
    "<h2 align=center>Get Some Data </h2>"
   ]
  },
  {
   "cell_type": "markdown",
   "metadata": {},
   "source": [
    "Create a nonlinearly separable dataset:    "
   ]
  },
  {
   "cell_type": "code",
   "execution_count": 44,
   "metadata": {},
   "outputs": [],
   "source": [
    "from torch.utils.data import Dataset, DataLoader\n",
    "\n",
    "class Data(Dataset):\n",
    "    def __init__(self,N_SAMPLES = 1000,noise_std=0.1,train=True):\n",
    "      \n",
    "        a=np.matrix([-1,1,2,1,1,-3,1]).T\n",
    "        \n",
    "        self.x = np.matrix(np.random.rand(N_SAMPLES,2))\n",
    "\n",
    "        self.f=np.array(a[0]+(self.x)*a[1:3]+np.multiply(self.x[:,0], self.x[:,1])*a[4]+np.multiply(self.x, self.x)*a[5:7]).flatten()\n",
    "        self.a=a\n",
    "       \n",
    "        self.y=np.zeros(N_SAMPLES)\n",
    "        self.y[self.f> 0]=1\n",
    "        self.y=torch.from_numpy(self.y).type(torch.LongTensor)\n",
    "        self.x=torch.from_numpy(self.x).type(torch.FloatTensor)\n",
    "        self.x = self.x+noise_std*torch.randn(self.x.size())\n",
    "        self.f=torch.from_numpy(self.f)\n",
    "        self.a=a\n",
    "        if train==True:\n",
    "            torch.manual_seed(1)\n",
    "         \n",
    "            self.x = self.x+noise_std*torch.randn(self.x.size())\n",
    "            torch.manual_seed(0)\n",
    "        \n",
    "            \n",
    "    def __getitem__(self,index):    \n",
    "        return self.x[index],self.y[index]\n",
    "    def __len__(self):\n",
    "        return self.len\n",
    "    def plot(self):\n",
    "        X=data_set.x.numpy()\n",
    "        y=data_set.y.numpy()\n",
    "        h = .02\n",
    "        x_min, x_max = X[:, 0].min() , X[:, 0].max()\n",
    "        y_min, y_max = X[:, 1].min(), X[:, 1].max() \n",
    "        xx, yy = np.meshgrid(np.arange(x_min, x_max, h),np.arange(y_min, y_max, h))\n",
    "        Z=data_set.fun(np.c_[xx.ravel(), yy.ravel()]).flatten()\n",
    "        f=np.zeros(Z.shape)\n",
    "        f[Z>0]=1\n",
    "        f=f.reshape(xx.shape)\n",
    "        plt.title('True decision boundary  and sample points with noise ')\n",
    "      \n",
    "\n",
    "        plt.plot(self.x[self.y==0,0].numpy(),self.x[self.y==0,1].numpy(),'bo',label='y=0' ) \n",
    "        plt.plot(self.x[self.y==1,0].numpy(), self.x[self.y==1,1].numpy(),'ro',label='y=1' )\n",
    "        plt.contour(xx, yy, f, cmap=plt.cm.Paired)\n",
    "        plt.xlim(0,1)\n",
    "        plt.ylim(0,1)\n",
    "        plt.legend()\n",
    "    def fun(self,x):\n",
    "        \n",
    "        x=np.matrix(x)\n",
    "\n",
    "        out=np.array(self.a[0]+(x)*self.a[1:3]+np.multiply(x[:,0], x[:,1])*self.a[4]+np.multiply(x, x)*self.a[5:7])\n",
    "        out=np.array(out)\n",
    "        return out\n",
    "  "
   ]
  },
  {
   "cell_type": "markdown",
   "metadata": {},
   "source": [
    "Create a dataset object:"
   ]
  },
  {
   "cell_type": "code",
   "execution_count": 45,
   "metadata": {},
   "outputs": [
    {
     "data": {
      "image/png": "[encoded data removed]",
      "text/plain": [
       "<Figure size 432x288 with 1 Axes>"
      ]
     },
     "metadata": {
      "needs_background": "light"
     },
     "output_type": "display_data"
    }
   ],
   "source": [
    "data_set=Data(noise_std=0.2)\n",
    "data_set.plot()\n"
   ]
  },
  {
   "cell_type": "markdown",
   "metadata": {},
   "source": [
    "Get some validation data: "
   ]
  },
  {
   "cell_type": "code",
   "execution_count": 46,
   "metadata": {},
   "outputs": [],
   "source": [
    "torch.manual_seed(0) \n",
    "validation_set=Data(train=False)"
   ]
  },
  {
   "cell_type": "markdown",
   "metadata": {},
   "source": [
    "<a id=\"ref1\"></a>\n",
    "<h2 align=center>Create the Model, Optimizer, and Total Loss Function (cost)</h2>"
   ]
  },
  {
   "cell_type": "markdown",
   "metadata": {},
   "source": [
    "### Create a three-layer neural network <code>model</code> with a ReLU() activation function for regression. All the appropriate layers should be 300 units.\n"
   ]
  },
  {
   "cell_type": "code",
   "execution_count": 7,
   "metadata": {},
   "outputs": [],
   "source": [
    "nH = 300\n",
    "model = nn.Sequential(\n",
    "    nn.Linear(2,nH),\n",
    "    nn.ReLU(),\n",
    "    nn.Linear(nH,nH),\n",
    "    nn.ReLU(),\n",
    "    nn.Linear(nH,2)\n",
    ")"
   ]
  },
  {
   "cell_type": "markdown",
   "metadata": {},
   "source": [
    "\n",
    "Double-click __here__ for the solution.\n",
    "<!-- Your answer is below:\n",
    "    n_hidden = 300\n",
    "    model= torch.nn.Sequential(\n",
    "    torch.nn.Linear(2, n_hidden), \n",
    "    torch.nn.ReLU(),\n",
    "    torch.nn.Linear(n_hidden, n_hidden),\n",
    "    torch.nn.ReLU(),\n",
    "    torch.nn.Linear(n_hidden, 2)\n",
    ")\n",
    "  -->\n"
   ]
  },
  {
   "cell_type": "markdown",
   "metadata": {},
   "source": [
    "### Create a three-layer neural network <code>model_drop</code> with a ReLU() activation function for regression. All the appropriate layers should be 300 units. Apply dropout to all but the last layer and make the probability of dropout is 50%."
   ]
  },
  {
   "cell_type": "code",
   "execution_count": 49,
   "metadata": {},
   "outputs": [],
   "source": [
    "nH = 300\n",
    "model = nn.Sequential(\n",
    "    nn.Linear(2,nH),\n",
    "    nn.ReLU(),\n",
    "    nn.Linear(nH,nH),\n",
    "    nn.ReLU(),\n",
    "    nn.Linear(nH,2)\n",
    ")\n",
    "\n",
    "p = 0.5\n",
    "model_drop = nn.Sequential(\n",
    "    nn.Linear(2,nH),\n",
    "    nn.Dropout(p=p),\n",
    "    nn.ReLU(),\n",
    "    nn.Linear(nH,nH),\n",
    "    nn.Dropout(p=p),\n",
    "    nn.ReLU(),\n",
    "    nn.Linear(nH,2)\n",
    ")"
   ]
  },
  {
   "cell_type": "markdown",
   "metadata": {},
   "source": [
    "\n",
    "Double-click __here__ for the solution.\n",
    "<!-- Your answer is below:\n",
    "n_hidden = 300\n",
    "model_drop= torch.nn.Sequential(\n",
    "    torch.nn.Linear(2, n_hidden),\n",
    "    torch.nn.Dropout(0.5),  \n",
    "    torch.nn.ReLU(),\n",
    "    torch.nn.Linear(n_hidden, n_hidden),\n",
    "    torch.nn.Dropout(0.5), \n",
    "    torch.nn.ReLU(),\n",
    "    torch.nn.Linear(n_hidden, 2)\n",
    ")\n",
    "-->"
   ]
  },
  {
   "cell_type": "markdown",
   "metadata": {},
   "source": [
    "<a id=\"ref2\"></a>\n",
    "<h2 align=center>Train the Model via Mini-Batch Gradient Descent </h2>"
   ]
  },
  {
   "cell_type": "markdown",
   "metadata": {},
   "source": [
    "Set the model by using dropout to training mode; this is the default mode, but it's a good practice. "
   ]
  },
  {
   "cell_type": "code",
   "execution_count": 50,
   "metadata": {},
   "outputs": [
    {
     "data": {
      "text/plain": [
       "Sequential(\n",
       "  (0): Linear(in_features=2, out_features=300, bias=True)\n",
       "  (1): Dropout(p=0.5)\n",
       "  (2): ReLU()\n",
       "  (3): Linear(in_features=300, out_features=300, bias=True)\n",
       "  (4): Dropout(p=0.5)\n",
       "  (5): ReLU()\n",
       "  (6): Linear(in_features=300, out_features=2, bias=True)\n",
       ")"
      ]
     },
     "execution_count": 50,
     "metadata": {},
     "output_type": "execute_result"
    }
   ],
   "source": [
    "model_drop.train()"
   ]
  },
  {
   "cell_type": "markdown",
   "metadata": {},
   "source": [
    "Train the model by using the Adam optimizer. See the unit on other optimizers. Use the Cross Entropy Loss:"
   ]
  },
  {
   "cell_type": "code",
   "execution_count": 51,
   "metadata": {},
   "outputs": [],
   "source": [
    "optimizer_ofit = torch.optim.Adam(model.parameters(), lr=0.01)\n",
    "optimizer_drop = torch.optim.Adam(model_drop.parameters(), lr=0.01)\n",
    "criterion = torch.nn.CrossEntropyLoss()"
   ]
  },
  {
   "cell_type": "markdown",
   "metadata": {},
   "source": [
    "## Create the appropriate loss function."
   ]
  },
  {
   "cell_type": "markdown",
   "metadata": {},
   "source": [
    "<!-- Your answer is below:\n",
    "criterion = torch.nn.CrossEntropyLoss()\n",
    "-->\n"
   ]
  },
  {
   "cell_type": "markdown",
   "metadata": {},
   "source": [
    "Initialize a dictionary that stores the training and validation loss for each model:"
   ]
  },
  {
   "cell_type": "code",
   "execution_count": 52,
   "metadata": {},
   "outputs": [],
   "source": [
    "LOSS={}\n",
    "LOSS['training data no dropout']=[]\n",
    "LOSS['validation data no dropout']=[]\n",
    "LOSS['training data dropout']=[]\n",
    "LOSS['validation data dropout']=[]"
   ]
  },
  {
   "cell_type": "markdown",
   "metadata": {},
   "source": [
    "Run 500 iterations of batch gradient decent: "
   ]
  },
  {
   "cell_type": "code",
   "execution_count": 53,
   "metadata": {},
   "outputs": [
    {
     "name": "stdout",
     "output_type": "stream",
     "text": [
      "0\n",
      "50\n",
      "100\n",
      "150\n",
      "200\n",
      "250\n",
      "300\n",
      "350\n",
      "400\n",
      "450\n"
     ]
    }
   ],
   "source": [
    "epochs=500\n",
    "\n",
    "for epoch in range(epochs):\n",
    "    #make a prediction for both models \n",
    "    yhat = model(data_set.x)\n",
    "    yhat_drop = model_drop(data_set.x)\n",
    "    #calculate the lossf or both models \n",
    "    loss = criterion(yhat, data_set.y)\n",
    "    loss_drop = criterion(yhat_drop, data_set.y)\n",
    "    \n",
    "    #store the loss for  both the training and validation  data for both models \n",
    "    LOSS['training data no dropout'].append(loss.item())\n",
    "    LOSS['validation data no dropout'].append(criterion(model(validation_set.x), validation_set.y).item())\n",
    "    LOSS['training data dropout'].append(loss_drop.item())\n",
    "    model_drop.eval()\n",
    "    LOSS['validation data dropout'].append(criterion(model_drop(validation_set.x), validation_set.y).item())\n",
    "    model_drop.train()\n",
    "    \n",
    "    #clear gradient \n",
    "    optimizer_ofit.zero_grad()\n",
    "    optimizer_drop.zero_grad()\n",
    "    #Backward pass: compute gradient of the loss with respect to all the learnable parameters\n",
    "    loss.backward()\n",
    "    loss_drop.backward()\n",
    "    #the step function on an Optimizer makes an update to its parameters\n",
    "    optimizer_ofit.step()\n",
    "    optimizer_drop.step()\n",
    "    \n",
    "    if epoch%50==0:\n",
    "        print(epoch)"
   ]
  },
  {
   "cell_type": "markdown",
   "metadata": {},
   "source": [
    "Set the model with dropout to evaluation mode: "
   ]
  },
  {
   "cell_type": "code",
   "execution_count": null,
   "metadata": {},
   "outputs": [],
   "source": [
    "model_drop.eval()"
   ]
  },
  {
   "cell_type": "markdown",
   "metadata": {},
   "source": [
    "### Test the accuracy of the model without dropout on the validation data. "
   ]
  },
  {
   "cell_type": "code",
   "execution_count": null,
   "metadata": {},
   "outputs": [],
   "source": [
    "yhat = model(validation_set.x)\n",
    "accuracy(model,validation_set)"
   ]
  },
  {
   "cell_type": "markdown",
   "metadata": {},
   "source": [
    "Double-click __here__ for the solution.\n",
    "<!-- Your answer is below:\n",
    "_,yhat=torch.max(model(validation_set.x),1)\n",
    "(yhat==validation_set.y).numpy().mean()\n",
    "-->"
   ]
  },
  {
   "cell_type": "markdown",
   "metadata": {},
   "source": [
    "### Test the accuracy of the model without dropout on the validation data. "
   ]
  },
  {
   "cell_type": "code",
   "execution_count": 54,
   "metadata": {},
   "outputs": [
    {
     "name": "stdout",
     "output_type": "stream",
     "text": [
      "dropout =  0.881\n",
      "no dropout =  0.824\n"
     ]
    }
   ],
   "source": [
    "model_drop.eval()\n",
    "yhat_drop = model_drop(validation_set.x)\n",
    "print('dropout = ',accuracy(model_drop,validation_set))\n",
    "yhat = model(validation_set.x)\n",
    "print('no dropout = ',accuracy(model,validation_set))"
   ]
  },
  {
   "cell_type": "markdown",
   "metadata": {},
   "source": [
    "Double-click __here__ for the solution.\n",
    "<!-- Your answer is below:\n",
    "_,yhat=torch.max(model_drop(validation_set.x),1)\n",
    "(yhat==validation_set.y).numpy().mean()\n",
    "-->\n"
   ]
  },
  {
   "cell_type": "markdown",
   "metadata": {},
   "source": [
    "You see that the model with dropout performs better on the validation data. "
   ]
  },
  {
   "cell_type": "markdown",
   "metadata": {},
   "source": [
    "Plot the decision boundary and the prediction of the networks in different colors:"
   ]
  },
  {
   "cell_type": "markdown",
   "metadata": {},
   "source": [
    "## true function"
   ]
  },
  {
   "cell_type": "code",
   "execution_count": null,
   "metadata": {},
   "outputs": [],
   "source": [
    "plot_decision_regions_3class(data_set)"
   ]
  },
  {
   "cell_type": "markdown",
   "metadata": {},
   "source": [
    "## model without dropout "
   ]
  },
  {
   "cell_type": "code",
   "execution_count": null,
   "metadata": {},
   "outputs": [],
   "source": [
    "plot_decision_regions_3class(data_set,model)"
   ]
  },
  {
   "cell_type": "markdown",
   "metadata": {},
   "source": [
    "## model with dropout "
   ]
  },
  {
   "cell_type": "code",
   "execution_count": 39,
   "metadata": {},
   "outputs": [
    {
     "name": "stderr",
     "output_type": "stream",
     "text": [
      "No handles with labels found to put in legend.\n"
     ]
    },
    {
     "data": {
      "image/png": "[encoded data removed]",
      "text/plain": [
       "<Figure size 432x288 with 1 Axes>"
      ]
     },
     "metadata": {
      "needs_background": "light"
     },
     "output_type": "display_data"
    }
   ],
   "source": [
    "plot_decision_regions_3class(data_set,model_drop)"
   ]
  },
  {
   "cell_type": "markdown",
   "metadata": {},
   "source": [
    "You can see that the model using dropout does better at tracking the function that generated the data. "
   ]
  },
  {
   "cell_type": "markdown",
   "metadata": {},
   "source": [
    "Plot out the loss for training and validation data on both models:  "
   ]
  },
  {
   "cell_type": "code",
   "execution_count": 55,
   "metadata": {},
   "outputs": [
    {
     "data": {
      "image/png": "[encoded data removed]",
      "text/plain": [
       "<Figure size 439.2x720 with 1 Axes>"
      ]
     },
     "metadata": {
      "needs_background": "light"
     },
     "output_type": "display_data"
    }
   ],
   "source": [
    "plt.figure(figsize=(6.1, 10))\n",
    "for key, value in LOSS.items():\n",
    "    plt.plot(np.log(np.array(value)),label=key)\n",
    "    plt.legend()\n",
    "    plt.xlabel(\"iterations\")\n",
    "    plt.ylabel(\"Log of cost or total loss\")"
   ]
  },
  {
   "cell_type": "markdown",
   "metadata": {},
   "source": [
    "You see that the model without dropout performs better on the training data, but it performs worse on the validation data. This suggests overfitting.  However, the model using dropout performed better on the validation data, but worse on the training data. "
   ]
  },
  {
   "cell_type": "markdown",
   "metadata": {},
   "source": [
    "<div class=\"alert alert-block alert-info\" style=\"margin-top: 20px\">\n",
    " <a href=\"http://cocl.us/pytorch_link_bottom\"><img src = \"http://cocl.us/pytorch_image_bottom\" width = 950, align = \"center\"></a>"
   ]
  },
  {
   "cell_type": "markdown",
   "metadata": {},
   "source": [
    "### About the Authors:  \n",
    "\n",
    " [Joseph Santarcangelo]( https://www.linkedin.com/in/joseph-s-50398b136/) has a PhD in Electrical Engineering. His research focused on using machine learning, signal processing, and computer vision to determine how videos impact human cognition. \n",
    "\n",
    "Other contributors: [Michelle Carey](  https://www.linkedin.com/in/michelleccarey/), [Morvan Youtube channel]( https://www.youtube.com/channel/UCdyjiB5H8Pu7aDTNVXTTpcg), [Mavis Zhou](  https://www.linkedin.com/in/jiahui-mavis-zhou-a4537814a/)"
   ]
  },
  {
   "cell_type": "markdown",
   "metadata": {},
   "source": [
    "<hr>"
   ]
  },
  {
   "cell_type": "markdown",
   "metadata": {},
   "source": [
    "Copyright &copy; 2018 [cognitiveclass.ai](cognitiveclass.ai?utm_source=bducopyrightlink&utm_medium=dswb&utm_campaign=bdu). This notebook and its source code are released under the terms of the [MIT License](https://bigdatauniversity.com/mit-license/)."
   ]
  }
 ],
 "metadata": {
  "kernelspec": {
   "display_name": "Python 3",
   "language": "python",
   "name": "python3"
  },
  "language_info": {
   "codemirror_mode": {
    "name": "ipython",
    "version": 3
   },
   "file_extension": ".py",
   "mimetype": "text/x-python",
   "name": "python",
   "nbconvert_exporter": "python",
   "pygments_lexer": "ipython3",
   "version": "3.6.6"
  }
 },
 "nbformat": 4,
 "nbformat_minor": 2
}
